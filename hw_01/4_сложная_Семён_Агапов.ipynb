{
 "cells": [
  {
   "cell_type": "markdown",
   "metadata": {},
   "source": [
    "# Machine Learning\n",
    "\n",
    "*Лектор: Екатерина Лобачева*\n",
    "\n",
    "*Факультет экономических наук НИУ ВШЭ, 2017-18 учебный год*\n",
    "\n",
    "[Страница курса](http://wiki.cs.hse.ru/Машинное_обучение_(факультет_экономических_наук%29)"
   ]
  },
  {
   "cell_type": "markdown",
   "metadata": {},
   "source": [
    "## Домашнее задание №1\n",
    "Задание основано на материалах курса [Data analysis (Software Engineering)](http://wiki.cs.hse.ru/Data_analysis_(Software_Engineering%29) (ФКН НИУ ВШЭ).\n",
    "\n",
    "Вам необходимо анализировать набор данных [adult.data](http://archive.ics.uci.edu/ml/datasets/Adult) (источник: UCI Machine Learning Repository) с помощью Python, pandas, numpy, scipy.\n",
    "\n",
    "Чтобы выполнить работу, скачайте настоящий ipynb-файл, откройте его в *Jupyter Notebook*, впишите решения в оставленные для этого ячейки (при необходимости можно добавлять новые ячейки), приводя полный работающий код, а также все необходимые пояснения и ответы (для этого нужно использовать markdown-ячейки). Вы можете вставлять формулы с помощью TeX-разметки в markdown-ячейки. После выполнения работы необходимо вытащить ipynb-файл из Jupyter (например, с помощью *File → Download as… → IPython Notebook*).\n",
    "\n",
    "**Подсказка.** Файл [adult.data](http://archive.ics.uci.edu/ml/machine-learning-databases/adult/adult.data) является CSV-файлом, но в нём отсутствуют имена переменных — они (вместе с описаниями) приводятся в отдельном файле [adult.names](http://archive.ics.uci.edu/ml/machine-learning-databases/adult/adult.names). При загрузке датафрейма с помощью `pd.read_csv` используйте параметры `header=None` (чтобы первая строка не воспринималась как строка с именами переменных) и `names=[\"age\", \"workclass\", \"fnlwgt\", \"education\", \"education-num\", \"marital-status\", \"occupation\", \"relationship\", \"race\", \"sex\", \"capital-gain\", \"capital-loss\", \"hours-per-week\", \"native-country\", \"50K\"]`. Чтобы убрать лишние пробелы после запятых, которые есть в файле, следует добавить опцию `skipinitialspace=True`."
   ]
  },
  {
   "cell_type": "markdown",
   "metadata": {},
   "source": [
    "### Вопрос 1\n",
    "Сколько мужчин и женщин в выборке?"
   ]
  },
  {
   "cell_type": "code",
   "execution_count": 9,
   "metadata": {},
   "outputs": [
    {
     "name": "stdout",
     "output_type": "stream",
     "text": [
      "number of men is \n",
      "21790\n",
      "number of women is \n",
      "10771\n"
     ]
    }
   ],
   "source": [
    "from pandas import DataFrame, read_csv\n",
    "import matplotlib.pyplot as plt\n",
    "import pandas as pd\n",
    "\n",
    "a=pd.read_csv(\"adult.data\", header=None, names=[\"age\", \"workclass\", \"fnlwgt\", \"education\", \"education-num\", \"marital-status\", \"occupation\", \"relationship\", \"race\", \"sex\", \"capital-gain\", \"capital-loss\", \"hours-per-week\", \"native-country\", \"50K\"], skipinitialspace=True)\n",
    "b=a[a[\"sex\"] == \"Male\"]\n",
    "c=a[a.sex == \"Female\"]\n",
    "print(\"number of men is \")\n",
    "print(b[\"sex\"].count())\n",
    "print(\"number of women is \")\n",
    "print(c[\"sex\"].count())\n"
   ]
  },
  {
   "cell_type": "markdown",
   "metadata": {},
   "source": [
    "### Вопрос 2\n",
    "Каков средний возраст мужчин?\n"
   ]
  },
  {
   "cell_type": "code",
   "execution_count": 5,
   "metadata": {},
   "outputs": [
    {
     "name": "stdout",
     "output_type": "stream",
     "text": [
      "mean age of men is\n",
      "39.43354749885268\n"
     ]
    }
   ],
   "source": [
    "from pandas import DataFrame, read_csv\n",
    "import matplotlib.pyplot as plt\n",
    "import pandas as pd\n",
    "\n",
    "a=pd.read_csv(\"adult.data\", header=None, names=[\"age\", \"workclass\", \"fnlwgt\", \"education\", \"education-num\", \"marital-status\", \"occupation\", \"relationship\", \"race\", \"sex\", \"capital-gain\", \"capital-loss\", \"hours-per-week\", \"native-country\", \"50K\"], skipinitialspace=True)\n",
    "b=a[a.sex == \"Male\"]\n",
    "print(\"mean age of men is\")\n",
    "print(b[\"age\"].mean())"
   ]
  },
  {
   "cell_type": "markdown",
   "metadata": {},
   "source": [
    "### Вопрос 3\n",
    "Какова доля граждан США?"
   ]
  },
  {
   "cell_type": "code",
   "execution_count": 7,
   "metadata": {},
   "outputs": [
    {
     "name": "stdout",
     "output_type": "stream",
     "text": [
      "share of US citizens is\n",
      "0.895857006849\n"
     ]
    }
   ],
   "source": [
    "from pandas import DataFrame, read_csv\n",
    "import matplotlib.pyplot as plt\n",
    "import pandas as pd\n",
    "\n",
    "a=pd.read_csv(\"adult.data\", header=None, names=[\"age\", \"workclass\", \"fnlwgt\", \"education\", \"education-num\", \"marital-status\", \"occupation\", \"relationship\", \"race\", \"sex\", \"capital-gain\", \"capital-loss\", \"hours-per-week\", \"native-country\", \"50K\"], skipinitialspace=True)\n",
    "b=a[a[\"native-country\"] == \"United-States\"]\n",
    "print(\"share of US citizens is\")\n",
    "print(b[\"native-country\"].count() / a[\"native-country\"].count())"
   ]
  },
  {
   "cell_type": "markdown",
   "metadata": {},
   "source": [
    "### Вопрос 4\n",
    "Нарисовать распределение уровня образования в виде столбчатой диаграммы (bar plot)."
   ]
  },
  {
   "cell_type": "code",
   "execution_count": 22,
   "metadata": {},
   "outputs": [
    {
     "data": {
      "text/plain": [
       "<matplotlib.axes._subplots.AxesSubplot at 0x103217cd940>"
      ]
     },
     "execution_count": 22,
     "metadata": {},
     "output_type": "execute_result"
    },
    {
     "data": {
      "image/png": "[encoded data removed]",
      "text/plain": [
       "<matplotlib.figure.Figure at 0x1032020dc50>"
      ]
     },
     "metadata": {},
     "output_type": "display_data"
    }
   ],
   "source": [
    "from pandas import DataFrame, read_csv\n",
    "import matplotlib.pyplot as plt\n",
    "import pandas as pd\n",
    "\n",
    "\n",
    "\n",
    "a=pd.read_csv(\"adult.data\", header=None, names=[\"age\", \"workclass\", \"fnlwgt\", \"education\", \"education-num\", \"marital-status\", \"occupation\", \"relationship\", \"race\", \"sex\", \"capital-gain\", \"capital-loss\", \"hours-per-week\", \"native-country\", \"50K\"], skipinitialspace=True)\n",
    "\n",
    "%matplotlib inline \n",
    "\n",
    "plt.show()\n",
    "b=a[\"education\"].value_counts()\n",
    "b.plot(kind = \"bar\")"
   ]
  },
  {
   "cell_type": "markdown",
   "metadata": {},
   "source": [
    "### Вопрос 5\n",
    "Найти среднее и стандартное отклонение переменной \"final weight\" (fnlwgt) для разведённых людей?"
   ]
  },
  {
   "cell_type": "code",
   "execution_count": 92,
   "metadata": {},
   "outputs": [
    {
     "name": "stdout",
     "output_type": "stream",
     "text": [
      "mean final weight is\n",
      "185802.79045689848\n",
      "standard deviation of final weight is\n",
      "105646.78945933603\n"
     ]
    }
   ],
   "source": [
    "from pandas import DataFrame, read_csv\n",
    "import matplotlib.pyplot as plt\n",
    "import pandas as pd\n",
    "import numpy as np\n",
    "\n",
    "\n",
    "a=pd.read_csv(\"adult.data\", header=None, names=[\"age\", \"workclass\", \"fnlwgt\", \"education\", \"education-num\", \"marital-status\", \"occupation\", \"relationship\", \"race\", \"sex\", \"capital-gain\", \"capital-loss\", \"hours-per-week\", \"native-country\", \"50K\"], skipinitialspace=True)\n",
    "\n",
    "b=a[a[\"marital-status\"] == \"Divorced\"]\n",
    "\n",
    "print(\"mean final weight is\")\n",
    "print(b[\"fnlwgt\"].mean())\n",
    "\n",
    "print(\"standard deviation of final weight is\")\n",
    "print(b[\"fnlwgt\"].std())\n",
    "\n"
   ]
  },
  {
   "cell_type": "markdown",
   "metadata": {},
   "source": [
    "### Вопрос 6\n",
    "Правда ли, что люди, зарабатывающие более 50 тыс. в основном имеют высшее образование?"
   ]
  },
  {
   "cell_type": "code",
   "execution_count": 95,
   "metadata": {
    "scrolled": true
   },
   "outputs": [
    {
     "data": {
      "text/plain": [
       "0.44458614972580029"
      ]
     },
     "execution_count": 95,
     "metadata": {},
     "output_type": "execute_result"
    },
    {
     "data": {
      "image/png": "[encoded data removed]",
      "text/plain": [
       "<matplotlib.figure.Figure at 0x1032250c0b8>"
      ]
     },
     "metadata": {},
     "output_type": "display_data"
    }
   ],
   "source": [
    "from pandas import DataFrame, read_csv\n",
    "import matplotlib.pyplot as plt\n",
    "import pandas as pd\n",
    "%matplotlib inline\n",
    "\n",
    "\n",
    "a=pd.read_csv(\"adult.data\", header=None, names=[\"age\", \"workclass\", \"fnlwgt\", \"education\", \"education-num\", \"marital-status\", \"occupation\", \"relationship\", \"race\", \"sex\", \"capital-gain\", \"capital-loss\", \"hours-per-week\", \"native-country\", \"50K\"], skipinitialspace=True)\n",
    "\n",
    "b=a[a[\"50K\"] == \">50K\"] \n",
    "c=b[\"education\"].value_counts()\n",
    "\n",
    "plt.show()\n",
    "\n",
    "c.plot(kind = \"bar\")\n",
    "\n",
    "(c[\"Bachelors\"]+c[\"Masters\"]+c[\"Doctorate\"])/(b[\"50K\"].count())\n"
   ]
  },
  {
   "cell_type": "markdown",
   "metadata": {
    "collapsed": true
   },
   "source": [
    "как можно видеть, доля бакалавров магистров и докторов среди зарадатывающих >50K составляет примерно 44% => зарабатывющие больше 50К люди в основном не имеют высшего образования"
   ]
  },
  {
   "cell_type": "markdown",
   "metadata": {},
   "source": [
    "# Вопрос 7\n",
    "Каков максимальный возраст мужчин и женщин каждой расы?"
   ]
  },
  {
   "cell_type": "code",
   "execution_count": 52,
   "metadata": {},
   "outputs": [
    {
     "name": "stdout",
     "output_type": "stream",
     "text": [
      "maximum ages of men are:\n",
      "race\n",
      "Amer-Indian-Eskimo    82\n",
      "Asian-Pac-Islander    90\n",
      "Black                 90\n",
      "Other                 77\n",
      "White                 90\n",
      "Name: age, dtype: int64\n",
      "\n",
      "\n",
      "\n",
      "maximum ages of women are:\n",
      "race\n",
      "Amer-Indian-Eskimo    80\n",
      "Asian-Pac-Islander    75\n",
      "Black                 90\n",
      "Other                 74\n",
      "White                 90\n",
      "Name: age, dtype: int64\n"
     ]
    }
   ],
   "source": [
    "from pandas import DataFrame, read_csv\n",
    "import matplotlib.pyplot as plt\n",
    "import pandas as pd\n",
    "\n",
    "a=pd.read_csv(\"adult.data\", header=None, names=[\"age\", \"workclass\", \"fnlwgt\", \"education\", \"education-num\", \"marital-status\", \"occupation\", \"relationship\", \"race\", \"sex\", \"capital-gain\", \"capital-loss\", \"hours-per-week\", \"native-country\", \"50K\"], skipinitialspace=True)\n",
    "\n",
    "print(\"maximum ages of men are:\")\n",
    "m=a[a[\"sex\"] == \"Male\"]\n",
    "print(m.groupby(\"race\")[\"age\"].max())\n",
    "\n",
    "print(\"\\n\\n\")\n",
    "print(\"maximum ages of women are:\")\n",
    "f=a[a[\"sex\"] == \"Female\"]\n",
    "print(f.groupby(\"race\")[\"age\"].max())\n"
   ]
  },
  {
   "cell_type": "markdown",
   "metadata": {},
   "source": [
    "### Вопрос 8\n",
    "Люди из каких стран работают как фермеры/рыбаки?"
   ]
  },
  {
   "cell_type": "code",
   "execution_count": 91,
   "metadata": {},
   "outputs": [
    {
     "name": "stdout",
     "output_type": "stream",
     "text": [
      "people from these countries work as farmers and fishers:\n",
      "Index(['United-States', 'Mexico', 'Puerto-Rico', '?', 'Philippines',\n",
      "       'Guatemala', 'Italy', 'El-Salvador', 'Vietnam', 'Cuba', 'Canada',\n",
      "       'Hong', 'Yugoslavia', 'Poland', 'Portugal', 'Japan', 'France',\n",
      "       'Germany', 'Ireland', 'England', 'Cambodia'],\n",
      "      dtype='object')\n"
     ]
    }
   ],
   "source": [
    "from pandas import DataFrame, read_csv\n",
    "import matplotlib.pyplot as plt\n",
    "import pandas as pd\n",
    "%matplotlib inline\n",
    "\n",
    "\n",
    "a=pd.read_csv(\"adult.data\", header=None, names=[\"age\", \"workclass\", \"fnlwgt\", \"education\", \"education-num\", \"marital-status\", \"occupation\", \"relationship\", \"race\", \"sex\", \"capital-gain\", \"capital-loss\", \"hours-per-week\", \"native-country\", \"50K\"], skipinitialspace=True)\n",
    "\n",
    "b=a[a[\"occupation\"] == \"Farming-fishing\"]\n",
    "\n",
    "print(\"people from these countries work as farmers and fishers:\")\n",
    "print(b[\"native-country\"].value_counts().keys())"
   ]
  },
  {
   "cell_type": "markdown",
   "metadata": {},
   "source": [
    "### Вопрос 9\n",
    "Рассмотрим два отношения 1) количество мужчин-бакалавров к количеству мужчин-магистров и 2) количество женщин-бакалавров к количеству женщин-магистров. Какое отношение больше?\n"
   ]
  },
  {
   "cell_type": "code",
   "execution_count": 71,
   "metadata": {},
   "outputs": [
    {
     "name": "stdout",
     "output_type": "stream",
     "text": [
      "ratio 1 > ratio 2\n"
     ]
    }
   ],
   "source": [
    "from pandas import DataFrame, read_csv\n",
    "import matplotlib.pyplot as plt\n",
    "import pandas as pd\n",
    "%matplotlib inline\n",
    "\n",
    "\n",
    "a=pd.read_csv(\"adult.data\", header=None, names=[\"age\", \"workclass\", \"fnlwgt\", \"education\", \"education-num\", \"marital-status\", \"occupation\", \"relationship\", \"race\", \"sex\", \"capital-gain\", \"capital-loss\", \"hours-per-week\", \"native-country\", \"50K\"], skipinitialspace=True)\n",
    "\n",
    "mb = a[(a[\"sex\"] == \"Male\") & (a[\"education\"] == \"Bachelors\")]\n",
    "mm = a[(a[\"sex\"] == \"Male\") & (a[\"education\"] == \"Masters\")]\n",
    "fb = a[(a[\"sex\"] == \"Female\") & (a[\"education\"] == \"Bachelors\")]\n",
    "fm = a[(a[\"sex\"] == \"Female\") & (a[\"education\"] == \"Masters\")]\n",
    "\n",
    "ratio1 = mb[\"sex\"].count()/mm[\"sex\"].count()\n",
    "ratio2 = fb[\"sex\"].count()/fm[\"sex\"].count()\n",
    "\n",
    "if (ratio1>ratio2):\n",
    "    print(\"ratio 1 > ratio 2\")\n",
    "elif (ratio1<ratio2):\n",
    "    print(\"ratio 2 > ratio 1\")\n",
    "else: print(\"ratio 2 = ratio 1\")"
   ]
  },
  {
   "cell_type": "markdown",
   "metadata": {},
   "source": [
    "### Вопрос 10\n",
    "Каково максимальное количество рабочих часов в неделю? Как много людей работают столько часов в неделю? Каков их заработок?"
   ]
  },
  {
   "cell_type": "code",
   "execution_count": 90,
   "metadata": {},
   "outputs": [
    {
     "name": "stdout",
     "output_type": "stream",
     "text": [
      "maximum hours per week = 99\n",
      "number of people who work 99 hours = 85\n",
      "number of people who earn <=50K and >50K respectively: \n",
      "<=50K    60\n",
      ">50K     25\n",
      "Name: 50K, dtype: int64\n"
     ]
    }
   ],
   "source": [
    "a=pd.read_csv(\"adult.data\", header=None, names=[\"age\", \"workclass\", \"fnlwgt\", \"education\", \"education-num\", \"marital-status\", \"occupation\", \"relationship\", \"race\", \"sex\", \"capital-gain\", \"capital-loss\", \"hours-per-week\", \"native-country\", \"50K\"], skipinitialspace=True)\n",
    "\n",
    "maxhpw = a[\"hours-per-week\"].max()\n",
    "b=a[a[\"hours-per-week\"] == maxhpw]\n",
    "\n",
    "print(\"maximum hours per week = \" + str(maxhpw))\n",
    "print(\"number of people who work \" + str(maxhpw) + \" hours = \" + str(b[\"50K\"].count()))\n",
    "print\n",
    "\n",
    "\n",
    "c=b[\"50K\"].value_counts()\n",
    "print(\"number of people who earn <=50K and >50K respectively: \")\n",
    "print(c)"
   ]
  }
 ],
 "metadata": {
  "kernelspec": {
   "display_name": "Python 3",
   "language": "python",
   "name": "python3"
  },
  "language_info": {
   "codemirror_mode": {
    "name": "ipython",
    "version": 3
   },
   "file_extension": ".py",
   "mimetype": "text/x-python",
   "name": "python",
   "nbconvert_exporter": "python",
   "pygments_lexer": "ipython3",
   "version": "3.6.1"
  },
  "toc": {
   "toc_cell": false,
   "toc_number_sections": false,
   "toc_threshold": 6,
   "toc_window_display": false
  }
 },
 "nbformat": 4,
 "nbformat_minor": 1
}
